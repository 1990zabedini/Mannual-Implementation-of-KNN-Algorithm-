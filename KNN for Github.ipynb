{
 "cells": [
  {
   "cell_type": "code",
   "execution_count": 2,
   "id": "68193a78",
   "metadata": {},
   "outputs": [],
   "source": [
    "import numpy as np \n",
    "import pandas as pd \n",
    "from sklearn.datasets import load_iris\n",
    "import math\n",
    "from functools import reduce\n",
    "from functools import partial"
   ]
  },
  {
   "cell_type": "code",
   "execution_count": null,
   "id": "c508e158",
   "metadata": {},
   "outputs": [],
   "source": [
    "iris_datasets=load_iris()"
   ]
  },
  {
   "cell_type": "code",
   "execution_count": null,
   "id": "26e8b257",
   "metadata": {},
   "outputs": [],
   "source": [
    "iris_datasets=load_iris()"
   ]
  },
  {
   "cell_type": "code",
   "execution_count": null,
   "id": "ca5ccfd4",
   "metadata": {},
   "outputs": [],
   "source": [
    "X=iris_datasets.data"
   ]
  },
  {
   "cell_type": "code",
   "execution_count": null,
   "id": "3a95bbc4",
   "metadata": {},
   "outputs": [],
   "source": [
    "Y=iris_datasets.target\n"
   ]
  },
  {
   "cell_type": "code",
   "execution_count": null,
   "id": "22e45c8f",
   "metadata": {},
   "outputs": [],
   "source": [
    "print(Y)"
   ]
  },
  {
   "cell_type": "code",
   "execution_count": null,
   "id": "607f66ae",
   "metadata": {},
   "outputs": [],
   "source": [
    "print(x)"
   ]
  },
  {
   "cell_type": "code",
   "execution_count": null,
   "id": "d2bac6f0",
   "metadata": {},
   "outputs": [],
   "source": [
    "iris_datasets.feature_names"
   ]
  },
  {
   "cell_type": "code",
   "execution_count": null,
   "id": "2de2dcf5",
   "metadata": {},
   "outputs": [],
   "source": [
    "iris_datasets.target_names"
   ]
  },
  {
   "cell_type": "code",
   "execution_count": null,
   "id": "c1c7159a",
   "metadata": {},
   "outputs": [],
   "source": [
    "test_index=np.random.randint(low=0,high=149,size=30)"
   ]
  },
  {
   "cell_type": "code",
   "execution_count": null,
   "id": "d050ec8f",
   "metadata": {},
   "outputs": [],
   "source": [
    "x_test=X[test_index]\n",
    "y_test=Y[test_index]"
   ]
  },
  {
   "cell_type": "code",
   "execution_count": null,
   "id": "0780f290",
   "metadata": {},
   "outputs": [],
   "source": [
    "print(len(x_test))\n",
    "print(len(y_test))"
   ]
  },
  {
   "cell_type": "code",
   "execution_count": 3,
   "id": "30d8b2e4",
   "metadata": {},
   "outputs": [],
   "source": [
    "index=np.random.permutation(150)"
   ]
  },
  {
   "cell_type": "code",
   "execution_count": null,
   "id": "5b7c325a",
   "metadata": {},
   "outputs": [],
   "source": [
    "train_index=index[30:]\n",
    "test_index=index[:30]"
   ]
  },
  {
   "cell_type": "code",
   "execution_count": null,
   "id": "e8ba25f9",
   "metadata": {},
   "outputs": [],
   "source": [
    "x_train=X[train_index]\n",
    "y_train=Y[train_index]\n",
    "x_test=X[test_index]\n",
    "y_test=Y[test_index]"
   ]
  },
  {
   "cell_type": "code",
   "execution_count": null,
   "id": "6e148b6c",
   "metadata": {},
   "outputs": [],
   "source": [
    "print(len(x_train))\n",
    "print(len(x_test))"
   ]
  },
  {
   "cell_type": "code",
   "execution_count": null,
   "id": "e0e083f8",
   "metadata": {},
   "outputs": [],
   "source": [
    "def distance(x1,x2):\n",
    "#     tmp=0\n",
    "#     for i in range(len(x1)):\n",
    "#         tmp+=(x1[i]-x2[i])**2\n",
    "    tmp=((x1-x2)**2).sum()\n",
    "    return math.sqrt(tmp)"
   ]
  },
  {
   "cell_type": "code",
   "execution_count": 4,
   "id": "dcee4ac2",
   "metadata": {},
   "outputs": [
    {
     "ename": "NameError",
     "evalue": "name 'X' is not defined",
     "output_type": "error",
     "traceback": [
      "\u001b[1;31m---------------------------------------------------------------------------\u001b[0m",
      "\u001b[1;31mNameError\u001b[0m                                 Traceback (most recent call last)",
      "\u001b[1;32m<ipython-input-4-28e6ea77fdaf>\u001b[0m in \u001b[0;36m<module>\u001b[1;34m\u001b[0m\n\u001b[1;32m----> 1\u001b[1;33m \u001b[0mx1\u001b[0m\u001b[1;33m=\u001b[0m\u001b[0mX\u001b[0m\u001b[1;33m[\u001b[0m\u001b[1;36m1\u001b[0m\u001b[1;33m,\u001b[0m\u001b[1;33m:\u001b[0m\u001b[1;33m]\u001b[0m\u001b[1;33m\u001b[0m\u001b[1;33m\u001b[0m\u001b[0m\n\u001b[0m\u001b[0;32m      2\u001b[0m \u001b[0mx2\u001b[0m\u001b[1;33m=\u001b[0m\u001b[0mX\u001b[0m\u001b[1;33m[\u001b[0m\u001b[1;36m2\u001b[0m\u001b[1;33m,\u001b[0m\u001b[1;33m:\u001b[0m\u001b[1;33m]\u001b[0m\u001b[1;33m\u001b[0m\u001b[1;33m\u001b[0m\u001b[0m\n\u001b[0;32m      3\u001b[0m \u001b[1;33m\u001b[0m\u001b[0m\n\u001b[0;32m      4\u001b[0m \u001b[0mresult\u001b[0m\u001b[1;33m=\u001b[0m\u001b[0mdistance\u001b[0m\u001b[1;33m(\u001b[0m\u001b[0mx1\u001b[0m\u001b[1;33m,\u001b[0m\u001b[0mx2\u001b[0m\u001b[1;33m)\u001b[0m\u001b[1;33m\u001b[0m\u001b[1;33m\u001b[0m\u001b[0m\n\u001b[0;32m      5\u001b[0m \u001b[0mprint\u001b[0m\u001b[1;33m(\u001b[0m\u001b[0mresult\u001b[0m\u001b[1;33m)\u001b[0m\u001b[1;33m\u001b[0m\u001b[1;33m\u001b[0m\u001b[0m\n",
      "\u001b[1;31mNameError\u001b[0m: name 'X' is not defined"
     ]
    }
   ],
   "source": [
    "x1=X[1,:]\n",
    "x2=X[2,:]\n",
    "\n",
    "result=distance(x1,x2)\n",
    "print(result)"
   ]
  },
  {
   "cell_type": "code",
   "execution_count": null,
   "id": "9e4ac3bc",
   "metadata": {},
   "outputs": [],
   "source": [
    "def y_predict_version2(x_train,y_train,x_test):\n",
    "    \n",
    "    def dis_ver2(x_train):\n",
    "        return distance(x_train,x_test)\n",
    "    \n",
    "    dist_=np.apply_along_axis(dis_ver2,axis=1,arr=x_train)\n",
    "    KNN=y_train[np.argsort(dist_)][:k]\n",
    "    a=np.bincount(KNN)\n",
    "    return np.argmax(a)\n",
    "    \n",
    "    return \n",
    "\n",
    "def whole_y_hat(x_train,y_train,x_test):\n",
    "    \n",
    "    def y_predict_optimize(x_test):\n",
    "        return y_predict_version2(x_train,y_train,x_test)\n",
    "    \n",
    "    y_hat__=np.apply_along_axis(y_predict_optimize,axis=1,arr=x_test)\n",
    "    return y_hat__\n",
    "    \n",
    "def calculate_error(y_hat,y_test):\n",
    "    return sum(y_hat==y_test)/len(y_test)"
   ]
  },
  {
   "cell_type": "code",
   "execution_count": null,
   "id": "ec3c2373",
   "metadata": {},
   "outputs": [],
   "source": [
    "k=5\n",
    "y_hat=whole_y_hat(x_train=x_train,y_train=y_train,x_test=x_test)"
   ]
  },
  {
   "cell_type": "code",
   "execution_count": null,
   "id": "4d1fcfb4",
   "metadata": {},
   "outputs": [],
   "source": [
    "print(y_hat)"
   ]
  },
  {
   "cell_type": "code",
   "execution_count": null,
   "id": "9169d410",
   "metadata": {},
   "outputs": [],
   "source": [
    "for i,j in zip(y_test,y_hat):\n",
    "    print(f\"({i},{j})\")"
   ]
  },
  {
   "cell_type": "code",
   "execution_count": null,
   "id": "e487d231",
   "metadata": {},
   "outputs": [],
   "source": [
    "error=calculate_error(y_hat,y_test)"
   ]
  },
  {
   "cell_type": "code",
   "execution_count": null,
   "id": "de2d3f91",
   "metadata": {},
   "outputs": [],
   "source": [
    "print(error)"
   ]
  },
  {
   "cell_type": "code",
   "execution_count": null,
   "id": "bf39d26b",
   "metadata": {},
   "outputs": [],
   "source": []
  }
 ],
 "metadata": {
  "kernelspec": {
   "display_name": "Python 3",
   "language": "python",
   "name": "python3"
  },
  "language_info": {
   "codemirror_mode": {
    "name": "ipython",
    "version": 3
   },
   "file_extension": ".py",
   "mimetype": "text/x-python",
   "name": "python",
   "nbconvert_exporter": "python",
   "pygments_lexer": "ipython3",
   "version": "3.8.8"
  }
 },
 "nbformat": 4,
 "nbformat_minor": 5
}
